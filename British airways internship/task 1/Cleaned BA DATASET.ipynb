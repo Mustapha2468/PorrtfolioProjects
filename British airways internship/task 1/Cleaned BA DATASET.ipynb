{
 "cells": [
  {
   "cell_type": "code",
   "execution_count": 2,
   "id": "e6a3d55b-7a24-4044-83e0-891966a242a9",
   "metadata": {},
   "outputs": [
    {
     "name": "stderr",
     "output_type": "stream",
     "text": [
      "[nltk_data] Downloading package wordnet to\n",
      "[nltk_data]     C:\\Users\\DELL\\AppData\\Roaming\\nltk_data...\n",
      "[nltk_data]   Package wordnet is already up-to-date!\n",
      "[nltk_data] Downloading package omw-1.4 to\n",
      "[nltk_data]     C:\\Users\\DELL\\AppData\\Roaming\\nltk_data...\n",
      "[nltk_data]   Package omw-1.4 is already up-to-date!\n"
     ]
    },
    {
     "data": {
      "text/plain": [
       "True"
      ]
     },
     "execution_count": 2,
     "metadata": {},
     "output_type": "execute_result"
    }
   ],
   "source": [
    "import pandas as pd\n",
    "import matplotlib.pyplot as plt\n",
    "import seaborn as sns\n",
    "import os\n",
    "\n",
    "#regeximport re\n",
    "import nltk\n",
    "nltk.download('wordnet')\n",
    "nltk.download('omw-1.4')"
   ]
  },
  {
   "cell_type": "code",
   "execution_count": 3,
   "id": "c7ce9ba4-1385-48a6-8731-3b080a151c98",
   "metadata": {},
   "outputs": [],
   "source": [
    "#create a dataframe from csv file\n",
    "\n",
    "cwd = os.getcwd()\n",
    "\n",
    "df = pd.read_csv(cwd+\"/BA_reviews.csv\", index_col=0)"
   ]
  },
  {
   "cell_type": "code",
   "execution_count": 4,
   "id": "5f455b3b-feb3-49cf-b3a1-6ddb4b4f3e47",
   "metadata": {},
   "outputs": [],
   "source": [
    "#create a dataframe from csv file\n",
    "\n",
    "cwd = os.getcwd()\n",
    "\n",
    "df = pd.read_csv(cwd+\"/BA_reviews.csv\", index_col=0)"
   ]
  },
  {
   "cell_type": "code",
   "execution_count": 5,
   "id": "a38d1e0e-6bcc-4b2e-9a4f-8f4699c79da5",
   "metadata": {},
   "outputs": [
    {
     "data": {
      "text/html": [
       "<div>\n",
       "<style scoped>\n",
       "    .dataframe tbody tr th:only-of-type {\n",
       "        vertical-align: middle;\n",
       "    }\n",
       "\n",
       "    .dataframe tbody tr th {\n",
       "        vertical-align: top;\n",
       "    }\n",
       "\n",
       "    .dataframe thead th {\n",
       "        text-align: right;\n",
       "    }\n",
       "</style>\n",
       "<table border=\"1\" class=\"dataframe\">\n",
       "  <thead>\n",
       "    <tr style=\"text-align: right;\">\n",
       "      <th></th>\n",
       "      <th>reviews</th>\n",
       "      <th>stars</th>\n",
       "      <th>date</th>\n",
       "      <th>country</th>\n",
       "    </tr>\n",
       "  </thead>\n",
       "  <tbody>\n",
       "    <tr>\n",
       "      <th>0</th>\n",
       "      <td>✅ Trip Verified |  Very inconsiderate PA annou...</td>\n",
       "      <td>5</td>\n",
       "      <td>25th April 2024</td>\n",
       "      <td>United Kingdom</td>\n",
       "    </tr>\n",
       "    <tr>\n",
       "      <th>1</th>\n",
       "      <td>✅ Trip Verified |  Absolutely terrible, lost m...</td>\n",
       "      <td>1</td>\n",
       "      <td>22nd April 2024</td>\n",
       "      <td>United Kingdom</td>\n",
       "    </tr>\n",
       "    <tr>\n",
       "      <th>2</th>\n",
       "      <td>✅ Trip Verified |  We booked premium economy r...</td>\n",
       "      <td>1</td>\n",
       "      <td>20th April 2024</td>\n",
       "      <td>United States</td>\n",
       "    </tr>\n",
       "    <tr>\n",
       "      <th>3</th>\n",
       "      <td>✅ Trip Verified |  We chose Rotterdam and Lond...</td>\n",
       "      <td>1</td>\n",
       "      <td>12th April 2024</td>\n",
       "      <td>Netherlands</td>\n",
       "    </tr>\n",
       "    <tr>\n",
       "      <th>4</th>\n",
       "      <td>✅ Trip Verified | The entire booking and ticke...</td>\n",
       "      <td>6</td>\n",
       "      <td>10th April 2024</td>\n",
       "      <td>United States</td>\n",
       "    </tr>\n",
       "  </tbody>\n",
       "</table>\n",
       "</div>"
      ],
      "text/plain": [
       "                                             reviews  stars             date  \\\n",
       "0  ✅ Trip Verified |  Very inconsiderate PA annou...      5  25th April 2024   \n",
       "1  ✅ Trip Verified |  Absolutely terrible, lost m...      1  22nd April 2024   \n",
       "2  ✅ Trip Verified |  We booked premium economy r...      1  20th April 2024   \n",
       "3  ✅ Trip Verified |  We chose Rotterdam and Lond...      1  12th April 2024   \n",
       "4  ✅ Trip Verified | The entire booking and ticke...      6  10th April 2024   \n",
       "\n",
       "          country  \n",
       "0  United Kingdom  \n",
       "1  United Kingdom  \n",
       "2   United States  \n",
       "3     Netherlands  \n",
       "4   United States  "
      ]
     },
     "execution_count": 5,
     "metadata": {},
     "output_type": "execute_result"
    }
   ],
   "source": [
    "df.head()"
   ]
  },
  {
   "cell_type": "code",
   "execution_count": 6,
   "id": "18c1ef93-1bd0-458d-a1f7-6e427a55110a",
   "metadata": {},
   "outputs": [],
   "source": [
    "df['verified'] = df.reviews.str.contains(\"Trip Verified\")"
   ]
  },
  {
   "cell_type": "code",
   "execution_count": 7,
   "id": "eb02ace6-6b5e-4022-ab90-0e91f6363448",
   "metadata": {},
   "outputs": [
    {
     "data": {
      "text/plain": [
       "0        True\n",
       "1        True\n",
       "2        True\n",
       "3        True\n",
       "4        True\n",
       "        ...  \n",
       "6995    False\n",
       "6996     True\n",
       "6997    False\n",
       "6998     True\n",
       "6999     True\n",
       "Name: verified, Length: 7000, dtype: bool"
      ]
     },
     "execution_count": 7,
     "metadata": {},
     "output_type": "execute_result"
    }
   ],
   "source": [
    "df['verified']"
   ]
  },
  {
   "cell_type": "markdown",
   "id": "59ee6906-9cd3-44fb-924e-33b87f618448",
   "metadata": {},
   "source": [
    "##Cleaning Reviews##\n",
    "\n",
    "I extract the colum of reviews into a new seperate dataframe and clean it for my analyis"
   ]
  },
  {
   "cell_type": "code",
   "execution_count": 8,
   "id": "45f55d39-7802-4d5e-935d-43a639159a6e",
   "metadata": {},
   "outputs": [],
   "source": [
    "import re\n",
    "#for lemmatization of words we will use nltk libary\n",
    "from nltk.stem import WordNetLemmatizer\n",
    "from nltk.corpus import stopwords\n",
    "lemma = WordNetLemmatizer()\n",
    "\n",
    "reviews_data = df.reviews.str.strip(\"✅ Trip Verified |\")\n",
    "\n",
    "#create an empty list to collect cleaned data corpus\n",
    "corpus =[]\n",
    "\n",
    "#loop through each review, remove punctuations, small case it, join it and add it to corpus\n",
    "for rev in reviews_data:\n",
    "    rev = re.sub('[^a-zA-Z]',' ', rev)\n",
    "    rev = rev.lower()\n",
    "    rev = rev.split()\n",
    "    rev = [lemma.lemmatize(word) for word in rev if word not in set(stopwords.words(\"english\"))]\n",
    "    rev = \" \".join(rev)\n",
    "    corpus.append(rev)"
   ]
  },
  {
   "cell_type": "code",
   "execution_count": 9,
   "id": "06a9563e-d4dc-4b5c-b420-317526868b99",
   "metadata": {},
   "outputs": [],
   "source": [
    "# add the corpus to the original dataframe\n",
    "\n",
    "df['corpus'] = corpus"
   ]
  },
  {
   "cell_type": "code",
   "execution_count": 10,
   "id": "9ef83967-07d4-4e3a-a648-8af30e81c538",
   "metadata": {},
   "outputs": [
    {
     "data": {
      "text/html": [
       "<div>\n",
       "<style scoped>\n",
       "    .dataframe tbody tr th:only-of-type {\n",
       "        vertical-align: middle;\n",
       "    }\n",
       "\n",
       "    .dataframe tbody tr th {\n",
       "        vertical-align: top;\n",
       "    }\n",
       "\n",
       "    .dataframe thead th {\n",
       "        text-align: right;\n",
       "    }\n",
       "</style>\n",
       "<table border=\"1\" class=\"dataframe\">\n",
       "  <thead>\n",
       "    <tr style=\"text-align: right;\">\n",
       "      <th></th>\n",
       "      <th>reviews</th>\n",
       "      <th>stars</th>\n",
       "      <th>date</th>\n",
       "      <th>country</th>\n",
       "      <th>verified</th>\n",
       "      <th>corpus</th>\n",
       "    </tr>\n",
       "  </thead>\n",
       "  <tbody>\n",
       "    <tr>\n",
       "      <th>0</th>\n",
       "      <td>✅ Trip Verified |  Very inconsiderate PA annou...</td>\n",
       "      <td>5</td>\n",
       "      <td>25th April 2024</td>\n",
       "      <td>United Kingdom</td>\n",
       "      <td>True</td>\n",
       "      <td>inconsiderate pa announcement made purser appe...</td>\n",
       "    </tr>\n",
       "    <tr>\n",
       "      <th>1</th>\n",
       "      <td>✅ Trip Verified |  Absolutely terrible, lost m...</td>\n",
       "      <td>1</td>\n",
       "      <td>22nd April 2024</td>\n",
       "      <td>United Kingdom</td>\n",
       "      <td>True</td>\n",
       "      <td>absolutely terrible lost luggage flight delive...</td>\n",
       "    </tr>\n",
       "    <tr>\n",
       "      <th>2</th>\n",
       "      <td>✅ Trip Verified |  We booked premium economy r...</td>\n",
       "      <td>1</td>\n",
       "      <td>20th April 2024</td>\n",
       "      <td>United States</td>\n",
       "      <td>True</td>\n",
       "      <td>booked premium economy round trip phoenix zuri...</td>\n",
       "    </tr>\n",
       "    <tr>\n",
       "      <th>3</th>\n",
       "      <td>✅ Trip Verified |  We chose Rotterdam and Lond...</td>\n",
       "      <td>1</td>\n",
       "      <td>12th April 2024</td>\n",
       "      <td>Netherlands</td>\n",
       "      <td>True</td>\n",
       "      <td>chose rotterdam london city airport convenienc...</td>\n",
       "    </tr>\n",
       "    <tr>\n",
       "      <th>4</th>\n",
       "      <td>✅ Trip Verified | The entire booking and ticke...</td>\n",
       "      <td>6</td>\n",
       "      <td>10th April 2024</td>\n",
       "      <td>United States</td>\n",
       "      <td>True</td>\n",
       "      <td>entire booking ticketing experience stressful ...</td>\n",
       "    </tr>\n",
       "  </tbody>\n",
       "</table>\n",
       "</div>"
      ],
      "text/plain": [
       "                                             reviews  stars             date  \\\n",
       "0  ✅ Trip Verified |  Very inconsiderate PA annou...      5  25th April 2024   \n",
       "1  ✅ Trip Verified |  Absolutely terrible, lost m...      1  22nd April 2024   \n",
       "2  ✅ Trip Verified |  We booked premium economy r...      1  20th April 2024   \n",
       "3  ✅ Trip Verified |  We chose Rotterdam and Lond...      1  12th April 2024   \n",
       "4  ✅ Trip Verified | The entire booking and ticke...      6  10th April 2024   \n",
       "\n",
       "          country  verified                                             corpus  \n",
       "0  United Kingdom      True  inconsiderate pa announcement made purser appe...  \n",
       "1  United Kingdom      True  absolutely terrible lost luggage flight delive...  \n",
       "2   United States      True  booked premium economy round trip phoenix zuri...  \n",
       "3     Netherlands      True  chose rotterdam london city airport convenienc...  \n",
       "4   United States      True  entire booking ticketing experience stressful ...  "
      ]
     },
     "execution_count": 10,
     "metadata": {},
     "output_type": "execute_result"
    }
   ],
   "source": [
    "\n",
    "df.head()"
   ]
  },
  {
   "cell_type": "markdown",
   "id": "bd607c18-e86a-4c07-8dcc-93e503470065",
   "metadata": {},
   "source": [
    "Cleaning/Fromat date"
   ]
  },
  {
   "cell_type": "code",
   "execution_count": 11,
   "id": "b424525f-e3f2-4bb4-a681-c505314308e9",
   "metadata": {},
   "outputs": [
    {
     "data": {
      "text/plain": [
       "reviews     object\n",
       "stars        int64\n",
       "date        object\n",
       "country     object\n",
       "verified      bool\n",
       "corpus      object\n",
       "dtype: object"
      ]
     },
     "execution_count": 11,
     "metadata": {},
     "output_type": "execute_result"
    }
   ],
   "source": [
    "\n",
    "df.dtypes"
   ]
  },
  {
   "cell_type": "code",
   "execution_count": 12,
   "id": "56191efd-8eda-4d79-b248-f798fd46f10b",
   "metadata": {},
   "outputs": [],
   "source": [
    "# convert the date to datetime format\n",
    "\n",
    "df.date = pd.to_datetime(df.date)"
   ]
  },
  {
   "cell_type": "code",
   "execution_count": 13,
   "id": "96430e48-5af9-490f-beee-02ff628ca837",
   "metadata": {},
   "outputs": [
    {
     "data": {
      "text/plain": [
       "0   2024-04-25\n",
       "1   2024-04-22\n",
       "2   2024-04-20\n",
       "3   2024-04-12\n",
       "4   2024-04-10\n",
       "Name: date, dtype: datetime64[ns]"
      ]
     },
     "execution_count": 13,
     "metadata": {},
     "output_type": "execute_result"
    }
   ],
   "source": [
    "df.date.head()"
   ]
  },
  {
   "cell_type": "markdown",
   "id": "52e0db93-c12f-43d9-8850-d69096b51fc8",
   "metadata": {},
   "source": [
    "Cleaning ratings with stars"
   ]
  },
  {
   "cell_type": "code",
   "execution_count": 14,
   "id": "d2dd2118-559c-49af-bebc-ec07e78b4569",
   "metadata": {},
   "outputs": [
    {
     "data": {
      "text/plain": [
       "array([ 5,  1,  6, 10,  7,  3,  4,  8,  9,  2], dtype=int64)"
      ]
     },
     "execution_count": 14,
     "metadata": {},
     "output_type": "execute_result"
    }
   ],
   "source": [
    "#check for unique values\n",
    "df.stars.unique()"
   ]
  },
  {
   "cell_type": "code",
   "execution_count": 15,
   "id": "48816108-b705-4e94-9e1c-041fd3c75a50",
   "metadata": {},
   "outputs": [
    {
     "data": {
      "text/plain": [
       "1     2218\n",
       "3     1111\n",
       "8      763\n",
       "6      622\n",
       "9      484\n",
       "10     416\n",
       "2      414\n",
       "7      348\n",
       "5      347\n",
       "4      277\n",
       "Name: stars, dtype: int64"
      ]
     },
     "execution_count": 15,
     "metadata": {},
     "output_type": "execute_result"
    }
   ],
   "source": [
    "df.stars.value_counts()"
   ]
  },
  {
   "cell_type": "code",
   "execution_count": 16,
   "id": "968c7d45-e85d-423b-9de1-2f499ccd03fc",
   "metadata": {},
   "outputs": [],
   "source": [
    "# drop the rows where the value of ratings is None\n",
    "df.drop(df[df.stars == \"None\"].index, axis=0, inplace=True)"
   ]
  },
  {
   "cell_type": "code",
   "execution_count": 17,
   "id": "833ca932-fa71-4208-b3ea-15aeba025620",
   "metadata": {},
   "outputs": [
    {
     "data": {
      "text/plain": [
       "array([ 5,  1,  6, 10,  7,  3,  4,  8,  9,  2], dtype=int64)"
      ]
     },
     "execution_count": 17,
     "metadata": {},
     "output_type": "execute_result"
    }
   ],
   "source": [
    "df.stars.unique()"
   ]
  },
  {
   "cell_type": "code",
   "execution_count": 18,
   "id": "5c325ccf-b674-4f53-b9c8-26b921e51715",
   "metadata": {},
   "outputs": [
    {
     "data": {
      "text/plain": [
       "reviews  stars  date   country  verified  corpus\n",
       "False    False  False  False    False     False     7000\n",
       "dtype: int64"
      ]
     },
     "execution_count": 18,
     "metadata": {},
     "output_type": "execute_result"
    }
   ],
   "source": [
    "df.isnull().value_counts()"
   ]
  },
  {
   "cell_type": "code",
   "execution_count": 19,
   "id": "10180fdb-f442-449b-9b28-a0b28e5e31df",
   "metadata": {},
   "outputs": [
    {
     "data": {
      "text/plain": [
       "False    7000\n",
       "Name: country, dtype: int64"
      ]
     },
     "execution_count": 19,
     "metadata": {},
     "output_type": "execute_result"
    }
   ],
   "source": [
    "df.country.isnull().value_counts()\n"
   ]
  },
  {
   "cell_type": "code",
   "execution_count": 20,
   "id": "ae47d80b-58d9-454b-a1df-0720c805fcd1",
   "metadata": {},
   "outputs": [
    {
     "data": {
      "text/plain": [
       "(7000, 6)"
      ]
     },
     "execution_count": 20,
     "metadata": {},
     "output_type": "execute_result"
    }
   ],
   "source": [
    "df.shape"
   ]
  },
  {
   "cell_type": "code",
   "execution_count": 21,
   "id": "925820c0-723b-48fd-99b3-1eaf8bcbe891",
   "metadata": {},
   "outputs": [
    {
     "data": {
      "text/html": [
       "<div>\n",
       "<style scoped>\n",
       "    .dataframe tbody tr th:only-of-type {\n",
       "        vertical-align: middle;\n",
       "    }\n",
       "\n",
       "    .dataframe tbody tr th {\n",
       "        vertical-align: top;\n",
       "    }\n",
       "\n",
       "    .dataframe thead th {\n",
       "        text-align: right;\n",
       "    }\n",
       "</style>\n",
       "<table border=\"1\" class=\"dataframe\">\n",
       "  <thead>\n",
       "    <tr style=\"text-align: right;\">\n",
       "      <th></th>\n",
       "      <th>reviews</th>\n",
       "      <th>stars</th>\n",
       "      <th>date</th>\n",
       "      <th>country</th>\n",
       "      <th>verified</th>\n",
       "      <th>corpus</th>\n",
       "    </tr>\n",
       "  </thead>\n",
       "  <tbody>\n",
       "    <tr>\n",
       "      <th>0</th>\n",
       "      <td>✅ Trip Verified |  Very inconsiderate PA annou...</td>\n",
       "      <td>5</td>\n",
       "      <td>2024-04-25</td>\n",
       "      <td>United Kingdom</td>\n",
       "      <td>True</td>\n",
       "      <td>inconsiderate pa announcement made purser appe...</td>\n",
       "    </tr>\n",
       "    <tr>\n",
       "      <th>1</th>\n",
       "      <td>✅ Trip Verified |  Absolutely terrible, lost m...</td>\n",
       "      <td>1</td>\n",
       "      <td>2024-04-22</td>\n",
       "      <td>United Kingdom</td>\n",
       "      <td>True</td>\n",
       "      <td>absolutely terrible lost luggage flight delive...</td>\n",
       "    </tr>\n",
       "    <tr>\n",
       "      <th>2</th>\n",
       "      <td>✅ Trip Verified |  We booked premium economy r...</td>\n",
       "      <td>1</td>\n",
       "      <td>2024-04-20</td>\n",
       "      <td>United States</td>\n",
       "      <td>True</td>\n",
       "      <td>booked premium economy round trip phoenix zuri...</td>\n",
       "    </tr>\n",
       "    <tr>\n",
       "      <th>3</th>\n",
       "      <td>✅ Trip Verified |  We chose Rotterdam and Lond...</td>\n",
       "      <td>1</td>\n",
       "      <td>2024-04-12</td>\n",
       "      <td>Netherlands</td>\n",
       "      <td>True</td>\n",
       "      <td>chose rotterdam london city airport convenienc...</td>\n",
       "    </tr>\n",
       "    <tr>\n",
       "      <th>4</th>\n",
       "      <td>✅ Trip Verified | The entire booking and ticke...</td>\n",
       "      <td>6</td>\n",
       "      <td>2024-04-10</td>\n",
       "      <td>United States</td>\n",
       "      <td>True</td>\n",
       "      <td>entire booking ticketing experience stressful ...</td>\n",
       "    </tr>\n",
       "    <tr>\n",
       "      <th>...</th>\n",
       "      <td>...</td>\n",
       "      <td>...</td>\n",
       "      <td>...</td>\n",
       "      <td>...</td>\n",
       "      <td>...</td>\n",
       "      <td>...</td>\n",
       "    </tr>\n",
       "    <tr>\n",
       "      <th>6995</th>\n",
       "      <td>Not Verified |  Angry, disappointed, and unsat...</td>\n",
       "      <td>1</td>\n",
       "      <td>2023-11-05</td>\n",
       "      <td>Italy</td>\n",
       "      <td>False</td>\n",
       "      <td>verified angry disappointed unsatisfied route ...</td>\n",
       "    </tr>\n",
       "    <tr>\n",
       "      <th>6996</th>\n",
       "      <td>✅ Trip Verified |  As an infrequent flyer, Bri...</td>\n",
       "      <td>3</td>\n",
       "      <td>2023-11-05</td>\n",
       "      <td>United Kingdom</td>\n",
       "      <td>True</td>\n",
       "      <td>infrequent flyer british airway always first c...</td>\n",
       "    </tr>\n",
       "    <tr>\n",
       "      <th>6997</th>\n",
       "      <td>Not Verified |  A totally unremarkable flight,...</td>\n",
       "      <td>1</td>\n",
       "      <td>2023-11-04</td>\n",
       "      <td>Ireland</td>\n",
       "      <td>False</td>\n",
       "      <td>verified totally unremarkable flight time comf...</td>\n",
       "    </tr>\n",
       "    <tr>\n",
       "      <th>6998</th>\n",
       "      <td>✅ Trip Verified |   1. Ground crew in Heathrow...</td>\n",
       "      <td>1</td>\n",
       "      <td>2023-10-31</td>\n",
       "      <td>United States</td>\n",
       "      <td>True</td>\n",
       "      <td>ground crew heathrow left passenger luggage ba...</td>\n",
       "    </tr>\n",
       "    <tr>\n",
       "      <th>6999</th>\n",
       "      <td>✅ Trip Verified |  London Heathrow to Gibralta...</td>\n",
       "      <td>3</td>\n",
       "      <td>2023-10-28</td>\n",
       "      <td>United Kingdom</td>\n",
       "      <td>True</td>\n",
       "      <td>london heathrow gibraltar th october shall sta...</td>\n",
       "    </tr>\n",
       "  </tbody>\n",
       "</table>\n",
       "<p>7000 rows × 6 columns</p>\n",
       "</div>"
      ],
      "text/plain": [
       "                                                reviews  stars       date  \\\n",
       "0     ✅ Trip Verified |  Very inconsiderate PA annou...      5 2024-04-25   \n",
       "1     ✅ Trip Verified |  Absolutely terrible, lost m...      1 2024-04-22   \n",
       "2     ✅ Trip Verified |  We booked premium economy r...      1 2024-04-20   \n",
       "3     ✅ Trip Verified |  We chose Rotterdam and Lond...      1 2024-04-12   \n",
       "4     ✅ Trip Verified | The entire booking and ticke...      6 2024-04-10   \n",
       "...                                                 ...    ...        ...   \n",
       "6995  Not Verified |  Angry, disappointed, and unsat...      1 2023-11-05   \n",
       "6996  ✅ Trip Verified |  As an infrequent flyer, Bri...      3 2023-11-05   \n",
       "6997  Not Verified |  A totally unremarkable flight,...      1 2023-11-04   \n",
       "6998  ✅ Trip Verified |   1. Ground crew in Heathrow...      1 2023-10-31   \n",
       "6999  ✅ Trip Verified |  London Heathrow to Gibralta...      3 2023-10-28   \n",
       "\n",
       "             country  verified  \\\n",
       "0     United Kingdom      True   \n",
       "1     United Kingdom      True   \n",
       "2      United States      True   \n",
       "3        Netherlands      True   \n",
       "4      United States      True   \n",
       "...              ...       ...   \n",
       "6995           Italy     False   \n",
       "6996  United Kingdom      True   \n",
       "6997         Ireland     False   \n",
       "6998   United States      True   \n",
       "6999  United Kingdom      True   \n",
       "\n",
       "                                                 corpus  \n",
       "0     inconsiderate pa announcement made purser appe...  \n",
       "1     absolutely terrible lost luggage flight delive...  \n",
       "2     booked premium economy round trip phoenix zuri...  \n",
       "3     chose rotterdam london city airport convenienc...  \n",
       "4     entire booking ticketing experience stressful ...  \n",
       "...                                                 ...  \n",
       "6995  verified angry disappointed unsatisfied route ...  \n",
       "6996  infrequent flyer british airway always first c...  \n",
       "6997  verified totally unremarkable flight time comf...  \n",
       "6998  ground crew heathrow left passenger luggage ba...  \n",
       "6999  london heathrow gibraltar th october shall sta...  \n",
       "\n",
       "[7000 rows x 6 columns]"
      ]
     },
     "execution_count": 21,
     "metadata": {},
     "output_type": "execute_result"
    }
   ],
   "source": [
    "#resetting the index\n",
    "df.reset_index(drop=True)"
   ]
  },
  {
   "cell_type": "code",
   "execution_count": null,
   "id": "52e4ea73-ae0f-4d5e-b610-97657f33965e",
   "metadata": {},
   "outputs": [],
   "source": [
    "# export the cleaned data\n",
    "\n",
    "df.to_csv(cwd + \"/cleaned-BA-reviews.csv\")"
   ]
  },
  {
   "cell_type": "code",
   "execution_count": null,
   "id": "af973da5-5709-43fd-9bc0-553885a88ff5",
   "metadata": {},
   "outputs": [],
   "source": []
  },
  {
   "cell_type": "code",
   "execution_count": null,
   "id": "fb9aaa41-96b6-4574-98b7-4219e6bb2652",
   "metadata": {},
   "outputs": [],
   "source": []
  }
 ],
 "metadata": {
  "kernelspec": {
   "display_name": "Python 3 (ipykernel)",
   "language": "python",
   "name": "python3"
  },
  "language_info": {
   "codemirror_mode": {
    "name": "ipython",
    "version": 3
   },
   "file_extension": ".py",
   "mimetype": "text/x-python",
   "name": "python",
   "nbconvert_exporter": "python",
   "pygments_lexer": "ipython3",
   "version": "3.9.13"
  }
 },
 "nbformat": 4,
 "nbformat_minor": 5
}
